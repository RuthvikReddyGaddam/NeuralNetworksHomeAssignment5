{
 "cells": [
  {
   "cell_type": "code",
   "execution_count": 3,
   "id": "3858e10d",
   "metadata": {},
   "outputs": [
    {
     "data": {
      "text/plain": [
       "10.5"
      ]
     },
     "execution_count": 3,
     "metadata": {},
     "output_type": "execute_result"
    }
   ],
   "source": [
    "0.7*15"
   ]
  },
  {
   "cell_type": "code",
   "execution_count": null,
   "id": "d293d71c",
   "metadata": {},
   "outputs": [
    {
     "data": {
      "text/plain": [
       "(0.2,\n",
       " array([[1, 2],\n",
       "        [2, 0]]))"
      ]
     },
     "execution_count": 2,
     "metadata": {},
     "output_type": "execute_result"
    }
   ],
   "source": [
    "import pandas as pd\n",
    "import numpy as np\n",
    "import matplotlib.pyplot as plt\n",
    "import seaborn as sns\n",
    "\n",
    "from sklearn.feature_extraction.text import CountVectorizer\n",
    "from sklearn.naive_bayes import MultinomialNB\n",
    "from sklearn.metrics import accuracy_score, confusion_matrix, ConfusionMatrixDisplay\n",
    "from sklearn.model_selection import train_test_split\n",
    "\n",
    "# Step 1: Create a small synthetic dataset\n",
    "data = {\n",
    "    \"text\": [\n",
    "        \"I love this movie\",\n",
    "        \"This film was fantastic\", \n",
    "        \"wonderful acting\",\n",
    "        \"Terrible movie\", \n",
    "        \"I hated the plot\", \n",
    "        \"Worst film ever\",\n",
    "        '''7''' \"UC Berkeley is amazing\", \n",
    "        '''8''' \"I think UC Berkeley is a great university\",\n",
    "        '''9''' \"UC Berkeley is terrible\", \n",
    "        '''10''' \"I don't like UC Berkeley\",\n",
    "        \"Mediocre experience\", \n",
    "        \"Not good\", \n",
    "        \"Very bad\", \n",
    "        \"Quite enjoyable\", \n",
    "        \"Loved it\"\n",
    "        \"UC Berkley is my school\"\n",
    "        \"UC Berkley is a good place\"\n",
    "    ],\n",
    "    \"label\": [\n",
    "        1, 1, 1, 0, 0, 0, 1, 1, 0, 0, 0, 0, 0, 1, 1, 1, 1  # Binary sentiment: 1 = Positive, 0 = Negative\n",
    "    ],\n",
    "    \"flipped_labels\": [\n",
    "        1, 1, 1, 0, 0, 0, 0, 0, 1, 1, 0, 0, 0, 1, 1, 0, 0  # Binary sentiment: 1 = Positive, 0 = Negative\n",
    "    ]\n",
    "}\n",
    "\n",
    "df = pd.DataFrame(data)\n",
    "\n",
    "# Step 2: Split the dataset\n",
    "X_train, X_test, y_train, y_test = train_test_split(df[\"text\"], df[\"label\"], test_size=0.3)\n",
    "X_train1, X_test1, y_train1, y_test1 = train_test_split(df[\"text\"], df[\"flipped_labels\"], test_size=0.3)\n",
    "\n",
    "# Step 3: Train baseline model\n",
    "vectorizer = CountVectorizer()\n",
    "X_train_vec = vectorizer.fit_transform(X_train)\n",
    "X_test_vec = vectorizer.transform(X_test)\n",
    "\n",
    "model = MultinomialNB()\n",
    "model.fit(X_train_vec, y_train)\n",
    "model1 = MultinomialNB()\n",
    "model1.fit(X_train1, y_train1)\n",
    "\n",
    "# Step 4: Evaluate baseline model\n",
    "y_pred = model.predict(X_test_vec)\n",
    "accuracy_clean = accuracy_score(y_test, y_pred)\n",
    "conf_clean = confusion_matrix(y_test, y_pred)\n",
    "\n",
    "accuracy_clean, conf_clean\n"
   ]
  },
  {
   "cell_type": "code",
   "execution_count": null,
   "id": "06a3a19d",
   "metadata": {},
   "outputs": [],
   "source": []
  }
 ],
 "metadata": {
  "kernelspec": {
   "display_name": "Python 3",
   "language": "python",
   "name": "python3"
  },
  "language_info": {
   "codemirror_mode": {
    "name": "ipython",
    "version": 3
   },
   "file_extension": ".py",
   "mimetype": "text/x-python",
   "name": "python",
   "nbconvert_exporter": "python",
   "pygments_lexer": "ipython3",
   "version": "3.12.8"
  }
 },
 "nbformat": 4,
 "nbformat_minor": 5
}
